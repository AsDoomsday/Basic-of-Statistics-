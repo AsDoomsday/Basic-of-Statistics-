{
 "cells": [
  {
   "cell_type": "code",
   "execution_count": 1,
   "id": "0c447007-35cc-4ef4-ab91-4ea30341280a",
   "metadata": {},
   "outputs": [],
   "source": [
    "# Example 1: Confidence Interval for the Mean Weight of Packaged Flour\n",
    "# Scenario: A company claims that the average weight of its packaged flour is 1.0 kg. You take a sample of 40\n",
    "# packages and find that the average weight is 0.98 kg with a standard deviation of 0.1 kg. Construct a 95%\n",
    "# confidence interval for the true mean weight of the flour.\n",
    "# Step 1: Define the Known Parameters\n",
    "# ● Sample mean (xˉ) = 0.98 kg\n",
    "# ● Sample size (n) = 40\n",
    "# ● Sample standard deviation (s) = 0.1 1 kg\n",
    "# ● Confidence level = 95%\n",
    "# Step 2: Calculate the Standard Error (SE)\n",
    "# The standard error is calculated as:\n",
    "# Step 3: Find the Z-Score for the Confidence Level\n",
    "# For a 95% confidence interval, the Z-score is 1.96.\n",
    "# Step 4: Construct the Confidence Interval\n",
    "# The confidence interval is given by\n",
    "#  sample mean ± critical value × standard error of the mean. "
   ]
  },
  {
   "cell_type": "code",
   "execution_count": 9,
   "id": "b1246085-166e-465a-bce7-0033b7abb57a",
   "metadata": {},
   "outputs": [
    {
     "name": "stdout",
     "output_type": "stream",
     "text": [
      "Confidence Interval Calculation\n",
      "----------------------------------\n",
      "Sample Mean (x̄): 0.98 kg\n",
      "Sample Size (n): 40\n",
      "Sample Std Dev (s): 0.10 kg\n",
      "Standard Error (SE): 0.0158\n",
      "Z-score (95% CI): 1.96\n",
      "Margin of Error: 0.0310\n",
      "----------------------------------\n",
      "95% Confidence Interval: (0.949 , 1.011) kg\n"
     ]
    }
   ],
   "source": [
    "import numpy as np\n",
    "\n",
    "\n",
    "# Step 1: Define the sample statistics\n",
    "sample_mean = 0.98   # Mean of the sample (kg)\n",
    "sample_std = 0.1     # Standard deviation of the sample (kg)\n",
    "sample_size = 40     # Number of samples\n",
    "confidence_level = 0.95\n",
    "\n",
    "# Step 2: Calculate the Standard Error (SE)\n",
    "standard_error = sample_std / np.sqrt(sample_size)\n",
    "\n",
    "# Step 3: Z-score for a 95% confidence level\n",
    "z_score = 1.96   # From Z-table\n",
    "\n",
    "# Step 4: Construct the Confidence Interval\n",
    "margin_of_error = z_score * standard_error\n",
    "lower_bound = sample_mean - margin_of_error\n",
    "upper_bound = sample_mean + margin_of_error\n",
    "confidence_interval = (lower_bound, upper_bound)\n",
    "\n",
    "print(\"Confidence Interval Calculation\")\n",
    "print(\"----------------------------------\")\n",
    "print(f\"Sample Mean (x̄): {sample_mean:.2f} kg\")\n",
    "print(f\"Sample Size (n): {sample_size}\")\n",
    "print(f\"Sample Std Dev (s): {sample_std:.2f} kg\")\n",
    "print(f\"Standard Error (SE): {standard_error:.4f}\")\n",
    "print(f\"Z-score (95% CI): {z_score}\")\n",
    "print(f\"Margin of Error: {margin_of_error:.4f}\")\n",
    "print(\"----------------------------------\")\n",
    "print(f\"95% Confidence Interval: ({lower_bound:.3f} , {upper_bound:.3f}) kg\")\n"
   ]
  },
  {
   "cell_type": "code",
   "execution_count": null,
   "id": "25813aeb-8e80-43d2-86f3-2148573550ab",
   "metadata": {},
   "outputs": [],
   "source": []
  },
  {
   "cell_type": "code",
   "execution_count": null,
   "id": "2e339a07-c9d5-4779-b070-92ba5393add7",
   "metadata": {},
   "outputs": [],
   "source": []
  },
  {
   "cell_type": "code",
   "execution_count": 11,
   "id": "b49ebdd0-a737-4082-b723-957553bdec9a",
   "metadata": {},
   "outputs": [],
   "source": [
    "# Type 1 and type 2 error "
   ]
  },
  {
   "cell_type": "code",
   "execution_count": 15,
   "id": "59443ed8-b0fe-4424-9d7a-74352fef0403",
   "metadata": {},
   "outputs": [],
   "source": [
    "# A gentel introduction to false positive and false negative \n",
    "# Type 1 Error (false positive) \n",
    "# When we reject null hypothesis when it is actually true \n",
    "# Type 2 error (False negative)\n",
    "# when we fail to reject null hypothesis when it is actually true "
   ]
  },
  {
   "cell_type": "code",
   "execution_count": 21,
   "id": "1a6c030b-a9a8-4ebf-bfcd-dca05ee90d09",
   "metadata": {},
   "outputs": [],
   "source": [
    "import numpy as np\n",
    "from scipy.stats import norm\n",
    "# Function to calculate the power of the test\n",
    "def calculate_power(sample_size, effect_size, std_dev, alpha=0.05):\n",
    "# Calculate the standard error\n",
    "    standard_error = std_dev / np.sqrt(sample_size)\n",
    "    z_critical = norm.ppf(1 - alpha)\n",
    "    z_effect = effect_size / standard_error\n",
    "    power = 1 - norm.cdf(z_critical - z_effect)\n",
    "    return power"
   ]
  },
  {
   "cell_type": "code",
   "execution_count": 25,
   "id": "3b8e17aa-95dc-481b-a8fd-79397aa0700e",
   "metadata": {},
   "outputs": [
    {
     "name": "stdout",
     "output_type": "stream",
     "text": [
      "Sample Size: 20, Power: 0.72\n",
      "Sample Size: 50, Power: 0.97\n",
      "Sample Size: 100, Power: 1.00\n",
      "Sample Size: 200, Power: 1.00\n",
      "Sample Size: 500, Power: 1.00\n"
     ]
    }
   ],
   "source": [
    "# Define the parameters\n",
    "effect_size = 5 # True reduction in blood pressure\n",
    "std_dev = 10 # Population standard deviation\n",
    "alpha = 0.05 # Significance level\n",
    "# Test different sample sizes\n",
    "sample_sizes = [20, 50, 100, 200, 500]\n",
    "# Calculate and print the power for each sample size\n",
    "for n in sample_sizes:\n",
    "    power = calculate_power(n, effect_size, std_dev, alpha)\n",
    "    print(f\"Sample Size: {n}, Power: {power:.2f}\")\n"
   ]
  },
  {
   "cell_type": "code",
   "execution_count": null,
   "id": "9a881213-03fb-410f-9231-ecbe54926395",
   "metadata": {},
   "outputs": [],
   "source": []
  }
 ],
 "metadata": {
  "kernelspec": {
   "display_name": "Python [conda env:base] *",
   "language": "python",
   "name": "conda-base-py"
  },
  "language_info": {
   "codemirror_mode": {
    "name": "ipython",
    "version": 3
   },
   "file_extension": ".py",
   "mimetype": "text/x-python",
   "name": "python",
   "nbconvert_exporter": "python",
   "pygments_lexer": "ipython3",
   "version": "3.12.7"
  }
 },
 "nbformat": 4,
 "nbformat_minor": 5
}
