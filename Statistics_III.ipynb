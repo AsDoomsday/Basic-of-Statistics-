{
 "cells": [
  {
   "cell_type": "code",
   "execution_count": 38,
   "id": "e518400c-328f-4ddc-b77e-4f6008688d0a",
   "metadata": {},
   "outputs": [],
   "source": [
    "import random\n",
    "from itertools import product\n"
   ]
  },
  {
   "cell_type": "code",
   "execution_count": null,
   "id": "a82d6a67-4f8b-48e1-aed2-73d5391b310a",
   "metadata": {},
   "outputs": [],
   "source": []
  },
  {
   "cell_type": "code",
   "execution_count": 41,
   "id": "94754caf-ee71-44f0-b4e9-28c596633e8a",
   "metadata": {},
   "outputs": [],
   "source": [
    "# Probability \n",
    "# we have learned about Skewness and kurtosis and why it is important\n",
    "# now we will be studying what probability is, most of you must know about it \n",
    "#formula for porbability is p =  (favorable outcome / total outcome )\n",
    "# we will follow the same concept of probability in puthon"
   ]
  },
  {
   "cell_type": "code",
   "execution_count": 43,
   "id": "64e4af3a-366f-4a18-8742-abd77b41e9ba",
   "metadata": {},
   "outputs": [],
   "source": [
    "# in probability there are three major things which are \n",
    "# Experiment \n",
    "# sample size \n",
    "# Event\n",
    "\n",
    "# below rolling of dice is an event \n",
    "# total outcome are sample size \n",
    "# experiment"
   ]
  },
  {
   "cell_type": "code",
   "execution_count": 45,
   "id": "72476809-621b-4da2-bde9-91ee8d4b91da",
   "metadata": {},
   "outputs": [
    {
     "data": {
      "text/plain": [
       "0.5"
      ]
     },
     "execution_count": 45,
     "metadata": {},
     "output_type": "execute_result"
    }
   ],
   "source": [
    "# Assume I am rolling a dice my sample sapace will be \n",
    "sample_space = [1,2,3,4,5,6]\n",
    "# I want even number to appear\n",
    "fav_outcome = [2,4,6]\n",
    "\n",
    "# above are 2 lists I will basically devide it using above formula\n",
    "probability = len(fav_outcome)/len(sample_space)\n",
    "probability # answer will be 0.5 which is 50% probability"
   ]
  },
  {
   "cell_type": "code",
   "execution_count": 47,
   "id": "1102a64d-537b-4a43-b4db-3b6b596702be",
   "metadata": {},
   "outputs": [],
   "source": [
    "# After comming to know about probability, we will look into events \n",
    "# Independent \n",
    "# Dependent\n",
    "# Mutually exclusive "
   ]
  },
  {
   "cell_type": "code",
   "execution_count": 49,
   "id": "be270628-c7cb-405e-ac41-bd6a4000c201",
   "metadata": {},
   "outputs": [
    {
     "name": "stdout",
     "output_type": "stream",
     "text": [
      "*** Independent Event ***\n",
      "Result of rolling a dice:  6\n",
      "Result of tossing a coin:  H\n"
     ]
    }
   ],
   "source": [
    "### independent event  ###\n",
    "# event 1 is rolling a dice \n",
    "# event 2 is tossing a coin\n",
    "print('*** Independent Event ***')\n",
    "rolling_dice = random.choice([1,2,3,4,5,6])\n",
    "print(\"Result of rolling a dice: \", rolling_dice)\n",
    "coin_tossing = random.choice(['H','T'])\n",
    "print(\"Result of tossing a coin: \", coin_tossing)"
   ]
  },
  {
   "cell_type": "code",
   "execution_count": 51,
   "id": "72b345df-0118-4a6b-b7bb-4b52bd76cbeb",
   "metadata": {},
   "outputs": [],
   "source": [
    "# Above 2 events are totally independent on each other \n",
    "# Which means probability will not change if the even is occuring second time "
   ]
  },
  {
   "cell_type": "code",
   "execution_count": 53,
   "id": "af58ee83-b406-41c8-978d-245106d6f46d",
   "metadata": {},
   "outputs": [],
   "source": [
    "### Dependent event ### \n",
    "# Probability will change according to occurance of event "
   ]
  },
  {
   "cell_type": "code",
   "execution_count": 55,
   "id": "af999296-a44d-4f04-b7ce-3c439f666761",
   "metadata": {},
   "outputs": [
    {
     "name": "stdout",
     "output_type": "stream",
     "text": [
      "[('Club', 'A'), ('Club', 2), ('Club', 3), ('Club', 4), ('Club', 5), ('Club', 6), ('Club', 7), ('Club', 8), ('Club', 9), ('Club', 10), ('Club', 'J'), ('Club', 'Q'), ('Club', 'K'), ('Spade', 'A'), ('Spade', 2), ('Spade', 3), ('Spade', 4), ('Spade', 5), ('Spade', 6), ('Spade', 7), ('Spade', 8), ('Spade', 9), ('Spade', 10), ('Spade', 'J'), ('Spade', 'Q'), ('Spade', 'K'), ('Heart', 'A'), ('Heart', 2), ('Heart', 3), ('Heart', 4), ('Heart', 5), ('Heart', 6), ('Heart', 7), ('Heart', 8), ('Heart', 9), ('Heart', 10), ('Heart', 'J'), ('Heart', 'Q'), ('Heart', 'K'), ('Diamond', 'A'), ('Diamond', 2), ('Diamond', 3), ('Diamond', 4), ('Diamond', 5), ('Diamond', 6), ('Diamond', 7), ('Diamond', 8), ('Diamond', 9), ('Diamond', 10), ('Diamond', 'J'), ('Diamond', 'Q'), ('Diamond', 'K')]\n",
      "52\n"
     ]
    }
   ],
   "source": [
    "card1 = [ 'A', 2, 3, 4, 5, 6, 7, 8, 9, 10, 'J', 'Q', 'K']\n",
    "card2 = [ 'Club', 'Spade', 'Heart', 'Diamond' ] \n",
    "temp_deck_of_cards = list(product(card2, card1))\n",
    "print(temp_deck_of_cards)\n",
    "deck_of_cards = [f\"{i} of {j}\" for j,i in temp_deck_of_cards]\n",
    "print(len(deck_of_cards))"
   ]
  },
  {
   "cell_type": "code",
   "execution_count": 57,
   "id": "03fc4aa6-6099-4d83-86f5-98cbb58dd19e",
   "metadata": {},
   "outputs": [
    {
     "name": "stdout",
     "output_type": "stream",
     "text": [
      "Number of times Diamond of K appeared:  220\n",
      "The percentage of timed Diamond of K appeared is:  0.022\n",
      "What probability says 0.019230769230769232\n",
      "Run above code multiple times and then you will see the appeariance of Kind of diamond is close to the calculated probability\n"
     ]
    }
   ],
   "source": [
    "# We are drawing a card and keeping it back and doing it for 1000 times to see how many times 'King of diamonds appears' \n",
    "# and then we we match it with our calculated probability\n",
    "# This is still a independent one, as we are inserting back the drawn card \n",
    "\n",
    "no_of_times_diamond_of_k_appear = 0 \n",
    "trials = 10000\n",
    "for i in range(trials):\n",
    "    random.shuffle(deck_of_cards)\n",
    "    a = deck_of_cards.pop()\n",
    "    if a == '10 of Diamond':\n",
    "        no_of_times_diamond_of_k_appear += 1\n",
    "    deck_of_cards.append(a)\n",
    "print(\"Number of times Diamond of K appeared: \", no_of_times_diamond_of_k_appear)\n",
    "perc_of_appeariance = no_of_times_diamond_of_k_appear/ trials\n",
    "print(f\"The percentage of timed Diamond of K appeared is: \", perc_of_appeariance)\n",
    "print('What probability says', 1/52)\n",
    "print('Run above code multiple times and then you will see the appeariance of Kind of diamond is close to the calculated probability')"
   ]
  },
  {
   "cell_type": "code",
   "execution_count": 61,
   "id": "8be521dd-639f-4c68-997e-b98dc09ae2b1",
   "metadata": {},
   "outputs": [
    {
     "name": "stdout",
     "output_type": "stream",
     "text": [
      "Current probability of drawing a card 0.019230769230769232\n",
      "cards remaining:  51\n",
      "Updated probability is 0.0196078431372549\n",
      "cards remaining:  50\n",
      "Updated probability is 0.02\n",
      "cards remaining:  49\n",
      "Updated probability is 0.02040816326530612\n",
      "cards remaining:  48\n",
      "Updated probability is 0.020833333333333332\n",
      "cards remaining:  47\n",
      "Updated probability is 0.02127659574468085\n",
      "cards remaining:  46\n",
      "Updated probability is 0.021739130434782608\n",
      "cards remaining:  45\n",
      "Updated probability is 0.022222222222222223\n",
      "cards remaining:  44\n",
      "Updated probability is 0.022727272727272728\n",
      "cards remaining:  43\n",
      "Updated probability is 0.023255813953488372\n",
      "cards remaining:  42\n",
      "Updated probability is 0.023809523809523808\n",
      "cards remaining:  41\n",
      "Updated probability is 0.024390243902439025\n",
      "cards remaining:  40\n",
      "Updated probability is 0.025\n",
      "cards remaining:  39\n",
      "Updated probability is 0.02564102564102564\n",
      "cards remaining:  38\n",
      "Updated probability is 0.02631578947368421\n",
      "cards remaining:  37\n",
      "Updated probability is 0.02702702702702703\n",
      "cards remaining:  36\n",
      "Updated probability is 0.027777777777777776\n",
      "cards remaining:  35\n",
      "Updated probability is 0.02857142857142857\n",
      "cards remaining:  34\n",
      "Updated probability is 0.029411764705882353\n",
      "cards remaining:  33\n",
      "Updated probability is 0.030303030303030304\n",
      "cards remaining:  32\n",
      "Updated probability is 0.03125\n",
      "cards remaining:  31\n",
      "Updated probability is 0.03225806451612903\n",
      "cards remaining:  30\n",
      "Updated probability is 0.03333333333333333\n",
      "cards remaining:  29\n",
      "Updated probability is 0.034482758620689655\n",
      "Found the desired card in 23 attempts: 10 of Diamond\n",
      "You can see the probability is changing in every draw\n"
     ]
    }
   ],
   "source": [
    "# Example of dependent \n",
    "no_of_attempts = 0 \n",
    "no_of_tries = 52\n",
    "desired_card = '10 of Diamond'\n",
    "copy_deck = []\n",
    "prob = 1/len(deck_of_cards)\n",
    "print(\"Current probability of drawing a card\", prob)\n",
    "for i in range(no_of_tries):\n",
    "    no_of_attempts += 1 \n",
    "    random.shuffle(deck_of_cards)\n",
    "    a = deck_of_cards.pop()\n",
    "    copy_deck.append(a)\n",
    "    print(\"cards remaining: \", len(deck_of_cards))\n",
    "    prob = 1/len(deck_of_cards)\n",
    "    print('Updated probability is',prob) \n",
    "    if a == desired_card:\n",
    "        print(f\"Found the desired card in {no_of_attempts} attempts: {a}\")\n",
    "        deck_of_cards.extend(copy_deck)\n",
    "        break\n",
    "print('You can see the probability is changing in every draw')\n",
    "# this is an example of dependent event"
   ]
  },
  {
   "cell_type": "code",
   "execution_count": 63,
   "id": "6550bc58-ecb7-4ce2-b342-09163e7a6edb",
   "metadata": {},
   "outputs": [],
   "source": [
    "# Conditional Probability\n",
    "# conditional probability is the probability of an event occuring given that the another event has already occured. \n",
    "# Notation P(A|B) i.e probability of A given that the B has already occured \n",
    "# We can write it as \n",
    "# P(A|B) = P(A n B)/P(B)\n",
    "# P(A n B) = P(A|B) * P(B)"
   ]
  },
  {
   "cell_type": "code",
   "execution_count": null,
   "id": "952b0255-b4b6-4f97-b6dc-01cf9dad5854",
   "metadata": {},
   "outputs": [],
   "source": []
  }
 ],
 "metadata": {
  "kernelspec": {
   "display_name": "Python [conda env:base] *",
   "language": "python",
   "name": "conda-base-py"
  },
  "language_info": {
   "codemirror_mode": {
    "name": "ipython",
    "version": 3
   },
   "file_extension": ".py",
   "mimetype": "text/x-python",
   "name": "python",
   "nbconvert_exporter": "python",
   "pygments_lexer": "ipython3",
   "version": "3.12.7"
  }
 },
 "nbformat": 4,
 "nbformat_minor": 5
}
